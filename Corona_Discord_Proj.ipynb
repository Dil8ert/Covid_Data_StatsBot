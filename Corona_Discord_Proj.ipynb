{
  "nbformat": 4,
  "nbformat_minor": 0,
  "metadata": {
    "colab": {
      "name": "Corona_Discord_Proj.ipynb",
      "provenance": [],
      "collapsed_sections": [],
      "authorship_tag": "ABX9TyOS1/hKTRYbuAKNK+98s6U9",
      "include_colab_link": true
    },
    "kernelspec": {
      "name": "python3",
      "display_name": "Python 3"
    },
    "language_info": {
      "name": "python"
    }
  },
  "cells": [
    {
      "cell_type": "markdown",
      "metadata": {
        "id": "view-in-github",
        "colab_type": "text"
      },
      "source": [
        "<a href=\"https://colab.research.google.com/github/Dil8ert/Covid_Data_StatsBot/blob/main/Corona_Discord_Proj.ipynb\" target=\"_parent\"><img src=\"https://colab.research.google.com/assets/colab-badge.svg\" alt=\"Open In Colab\"/></a>"
      ]
    },
    {
      "cell_type": "code",
      "metadata": {
        "id": "SWATy3tyV4zy"
      },
      "source": [
        "import asyncio\n",
        "import pandas as pd\n",
        "import seaborn as sns\n",
        "import aiohttp\n",
        "import seaborn as sns\n",
        "import discord\n",
        "import json\n",
        "from discord.ext import commands\n",
        "\n",
        "bot = commands.Bot(command_prefix='.')\n",
        "\n",
        "async def main():\n",
        "\tsession = aiohttp.ClientSession()\n",
        "\tasync with session.get('https://disease.sh/v3/covid-19/historical/India?lastdays=30') as resp:\n",
        "\t\tJson = await resp.json()\n",
        "\t\tawait session.close()\n",
        "\t\n",
        "\treturn Json\n",
        "\n",
        "\n",
        "\n",
        "loop = asyncio.new_event_loop()\n",
        "asyncio.set_event_loop(loop)\n",
        "data = loop.run_until_complete(main())\n",
        "data = data['timeline']['deaths']\n",
        "\n",
        "df = pd.DataFrame.from_dict(data, orient='index', dtype=None, columns=None)\n",
        "# df.drop(columns = 'countryInfo',axis = 1, inplace=True)\n",
        "df.columns = ['deaths']\n",
        "df['date'] = df.index\n",
        "df.index = range(len(df))\n",
        "df['date'] = pd.to_datetime(df['date'])\n",
        "df['DeathsToday'] = df['deaths'].diff()\n",
        "df.dropna(inplace=True)\n",
        "\n",
        "color = sns.color_palette(\"rocket\")\n",
        "\n",
        "imag1 = sns.barplot(x=df.index,y='DeathsToday',data = df,palette = color)\n",
        "fig1 = imag1.get_figure()\n",
        "fig1.savefig('output1.png')\n",
        "\n",
        "imag2 = df[['date','DeathsToday']].set_index('date').plot()\n",
        "fig2 = imag2.get_figure()\n",
        "fig2.savefig('output2.png')\n",
        "\n",
        "\n",
        "\n",
        "@bot.command(aliases=['Graph'])\n",
        "async def Graphh(ctx):\n",
        "\tembed = discord.Embed(title=\"BarPlot\", description=\"Death rate, last 30 days\", color=discord.Color.random())\n",
        "\tawait ctx.send(embed=embed)\n",
        "\tawait ctx.send(file=discord.File('output1.png'))\n",
        "\n",
        "\n",
        "\n",
        "@bot.command(aliases=['GraphL'])\n",
        "async def Graphhl(ctx):\n",
        "\tembed = discord.Embed(title=\"KdePlot\", description=\"Death rate, last 30 days\", color=discord.Color.random())\n",
        "\tawait ctx.send(embed=embed)\n",
        "\tawait ctx.send(file=discord.File('output2.png'))\n",
        "\n",
        "async def main1():\n",
        "\tsession = aiohttp.ClientSession()\n",
        "\tasync with session.get('https://disease.sh/v3/covid-19/countries/India?yesterday=true&twoDaysAgo=true&strict=true') as resp:\n",
        "\t\tJson = await resp.json()\n",
        "\t\tawait session.close()\n",
        "\treturn Json\n",
        "\n",
        "\n",
        "\n",
        "\t\n",
        "\n",
        "loop1 = asyncio.new_event_loop()\n",
        "asyncio.set_event_loop(loop1)\n",
        "data1 = loop1.run_until_complete(main1())\n",
        "\n",
        "\n",
        "lst = [716358366519230494,799606178409349130]\n",
        "@bot.event\n",
        "async def on_ready():\n",
        "  print(\"Ready\")\n",
        "  embed = discord.Embed(title=\"Help\", description=\"List of commands\", color=discord.Color.random())\n",
        "  embed.add_field(name=\"Corona Stats\", value='Press `.Intro` to obtain stats')\n",
        "  embed.add_field(name=\"BarPlot\", value='Press `.Graph` to obtain a barplot of daily deaths preceeding 30 days')\n",
        "  embed.add_field(name=\"KdePlot\", value='Press `.GraphL` to obtain a Kdeplot of daily deaths preceeding 30 days')\n",
        "  # channels = bot.get_all_channels()\n",
        "  # for i in channels:\n",
        "  #   # channel = bot.get_channel(yield i)\n",
        "  #   # await channel.send(embed = embed)\n",
        "  #   yield i\n",
        "  # for i in bot.guilds:\n",
        "    \n",
        "  for i in lst:\n",
        "    channel = bot.get_channel(i)\n",
        "    print(channel)\n",
        "    await channel.send(embed = embed)\n",
        "    # while (True):\n",
        "    #   print(channel)\n",
        "    #   if channel != None:\n",
        "    #     await channel.send(embed = embed)\n",
        "    #     break\n",
        "    #   channel = bot.get_channel(int(i.id))\n",
        "\n",
        "\n",
        "@bot.event\n",
        "async def on_connect():\n",
        "  embed = discord.Embed(title=\"Help\", description=\"List of commands\", color=discord.Color.random())\n",
        "  embed.add_field(name=\"Corona Stats\", value='Press `.Intro` to obtain stats')\n",
        "  embed.add_field(name=\"BarPlot\", value='Press `.Graph` to obtain a barplot of daily deaths preceeding 30 days')\n",
        "  embed.add_field(name=\"KdePlot\", value='Press `.GraphL` to obtain a Kdeplot of daily deaths preceeding 30 days')\n",
        "#   for i in lst:\n",
        "#     channel = bot.get_channel(i)\n",
        "#     await channel.send(embed = embed)\n",
        "\t\n",
        "    \n",
        "\t\n",
        "\n",
        "@bot.command(aliases=['Intro'])\n",
        "async def Bott(ctx):\n",
        "\tembed = discord.Embed(title=\"Coronil\", description=\"Welcome to corona stats bot\", color=discord.Color.random())\n",
        "\tembed.add_field(name=\"Country\", value=data1['country'])\n",
        "\tembed.add_field(name=\"Today's positive count\", value=data1['todayCases'])\n",
        "\tembed.add_field(name=\"Deaths Today\", value=data1['todayDeaths'], inline = False )\n",
        "\tembed.add_field(name=\"Recovered Today\", value=data1['todayRecovered'])\n",
        "\tembed.add_field(name=\"Total population\", value=data1['population'])\n",
        "\tembed.add_field(name=\"Total Cases\", value=data1['cases'])\n",
        "\tembed.add_field(name=\"Total Recovery\", value=data1['recovered'])\n",
        "\tawait ctx.send(embed=embed)\n",
        "\n",
        "\n",
        "\n",
        "\t# await bot.wait_until_ready()\n",
        "\t# channel = bot.get_channel(int(804017196471812116))\n",
        "\t# await channel.send('hello')\n",
        "\n",
        "\n",
        "\n",
        "bot.run('Your token')\n"
      ],
      "execution_count": null,
      "outputs": []
    },
    {
      "cell_type": "code",
      "metadata": {
        "id": "PWjOrLspWaK6"
      },
      "source": [
        "!pip install  aiohttp\n",
        "!pip install discord\n"
      ],
      "execution_count": null,
      "outputs": []
    },
    {
      "cell_type": "code",
      "metadata": {
        "id": "OXGwYMrNWg5w"
      },
      "source": [
        "!pip install nest-asyncio"
      ],
      "execution_count": null,
      "outputs": []
    },
    {
      "cell_type": "code",
      "metadata": {
        "id": "JLUtvLVIXBIj"
      },
      "source": [
        "import nest_asyncio\n",
        "nest_asyncio.apply()\n",
        "__import__('IPython').embed()"
      ],
      "execution_count": null,
      "outputs": []
    },
    {
      "cell_type": "code",
      "metadata": {
        "id": "gcKo_z9PXEhK"
      },
      "source": [
        ""
      ],
      "execution_count": null,
      "outputs": []
    }
  ]
}